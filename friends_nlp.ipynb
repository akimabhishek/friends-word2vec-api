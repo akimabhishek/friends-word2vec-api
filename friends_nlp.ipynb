{
 "cells": [
  {
   "cell_type": "code",
   "execution_count": 77,
   "id": "39fda83c-e7f0-44ee-80b8-8191b4dcb192",
   "metadata": {},
   "outputs": [],
   "source": [
    "import requests"
   ]
  },
  {
   "cell_type": "code",
   "execution_count": 13,
   "id": "0f7de245-e821-4fe1-b2d9-4c8d97c03b22",
   "metadata": {},
   "outputs": [
    {
     "name": "stdout",
     "output_type": "stream",
     "text": [
      "Requirement already satisfied: beautifulsoup4 in c:\\users\\abhishekk\\pycharmprojects\\pythonproject_ml_1\\venv\\lib\\site-packages (4.12.3)\n",
      "Requirement already satisfied: requests in c:\\users\\abhishekk\\pycharmprojects\\pythonproject_ml_1\\venv\\lib\\site-packages (2.32.3)\n",
      "Requirement already satisfied: soupsieve>1.2 in c:\\users\\abhishekk\\pycharmprojects\\pythonproject_ml_1\\venv\\lib\\site-packages (from beautifulsoup4) (2.6)\n",
      "Requirement already satisfied: charset-normalizer<4,>=2 in c:\\users\\abhishekk\\pycharmprojects\\pythonproject_ml_1\\venv\\lib\\site-packages (from requests) (3.4.0)\n",
      "Requirement already satisfied: idna<4,>=2.5 in c:\\users\\abhishekk\\pycharmprojects\\pythonproject_ml_1\\venv\\lib\\site-packages (from requests) (3.10)\n",
      "Requirement already satisfied: urllib3<3,>=1.21.1 in c:\\users\\abhishekk\\pycharmprojects\\pythonproject_ml_1\\venv\\lib\\site-packages (from requests) (2.2.3)\n",
      "Requirement already satisfied: certifi>=2017.4.17 in c:\\users\\abhishekk\\pycharmprojects\\pythonproject_ml_1\\venv\\lib\\site-packages (from requests) (2024.8.30)\n"
     ]
    }
   ],
   "source": [
    "!pip install beautifulsoup4 requests"
   ]
  },
  {
   "cell_type": "code",
   "execution_count": 72,
   "id": "c52034b4-0b3d-4774-a085-3148dd015400",
   "metadata": {},
   "outputs": [],
   "source": [
    "import os"
   ]
  },
  {
   "cell_type": "code",
   "execution_count": 73,
   "id": "eceb4050-4225-4df5-9cf8-4a9d0521c2a5",
   "metadata": {},
   "outputs": [],
   "source": [
    "import re"
   ]
  },
  {
   "cell_type": "code",
   "execution_count": 74,
   "id": "37fd708f-9142-432f-98f2-1d9e82413978",
   "metadata": {},
   "outputs": [],
   "source": [
    "from nltk.tokenize import sent_tokenize, word_tokenize\n",
    "import nltk"
   ]
  },
  {
   "cell_type": "code",
   "execution_count": 99,
   "id": "c0bf9fcb-c98d-4b84-b73a-208c9fe74af0",
   "metadata": {},
   "outputs": [],
   "source": [
    "file_path = \"friends_scripts/friends_all.txt\""
   ]
  },
  {
   "cell_type": "code",
   "execution_count": 100,
   "id": "abf16ab5-1e29-4d67-9dd2-ca667f6d6855",
   "metadata": {},
   "outputs": [],
   "source": [
    "with open(file_path, encoding='utf-8') as f:\n",
    "    text = f.read()"
   ]
  },
  {
   "cell_type": "code",
   "execution_count": 27,
   "id": "60064e73-a51d-4c4e-9945-2de6efa86696",
   "metadata": {},
   "outputs": [],
   "source": [
    "# def remove_html_tags_regex(text):\n",
    "#     clean = re.compile('<.*?>') # Matches anything between < and > non-greedily\n",
    "#     return re.sub(clean, '', text)"
   ]
  },
  {
   "cell_type": "code",
   "execution_count": 28,
   "id": "15d4ed6d-29d5-4d0e-a7a9-b5712d77a0c4",
   "metadata": {},
   "outputs": [],
   "source": [
    "# text = remove_html_tags_regex(text)"
   ]
  },
  {
   "cell_type": "code",
   "execution_count": 30,
   "id": "44e0d0c6-19ba-4f76-be31-150e6ccd5aa8",
   "metadata": {},
   "outputs": [],
   "source": [
    "# import string,time\n",
    "# #string.punctuation to see punctuations used\n",
    "# exclude=string.punctuation\n",
    "# def remove_punc(text):\n",
    "#     for char in exclude:\n",
    "#         text = text.replace(char,'')\n",
    "#     return text    "
   ]
  },
  {
   "cell_type": "code",
   "execution_count": 31,
   "id": "45ed9f77-c82c-463d-b8f8-3c0be8e7166d",
   "metadata": {},
   "outputs": [],
   "source": [
    "# text = remove_punc(text)"
   ]
  },
  {
   "cell_type": "code",
   "execution_count": 32,
   "id": "30e01f1d-3109-4396-b44c-8812c4c2b43d",
   "metadata": {},
   "outputs": [],
   "source": [
    "# def remove_punc1(text):\n",
    "#     return text.translate(str.maketrans('','',exclude))"
   ]
  },
  {
   "cell_type": "code",
   "execution_count": 33,
   "id": "935f73ea-9b11-453d-9ba7-42888ad43c03",
   "metadata": {},
   "outputs": [],
   "source": [
    "# text = remove_punc1(text)"
   ]
  },
  {
   "cell_type": "code",
   "execution_count": 36,
   "id": "c1434a01-ffaa-43c4-b2d5-10af3b6b1f3a",
   "metadata": {},
   "outputs": [],
   "source": [
    "data = \"\"\"\n",
    "AFAIK=As Far As I Know\n",
    "AFK=Away From Keyboard\n",
    "ASAP=As Soon As Possible\n",
    "ATK=At The Keyboard\n",
    "ATM=At The Moment\n",
    "A3=Anytime, Anywhere, Anyplace\n",
    "BAK=Back At Keyboard\n",
    "BBL=Be Back Later\n",
    "BBS=Be Back Soon\n",
    "BFN=Bye For Now\n",
    "B4N=Bye For Now\n",
    "BRB=Be Right Back\n",
    "BRT=Be Right There\n",
    "BTW=By The Way\n",
    "B4=Before\n",
    "B4N=Bye For Now\n",
    "CU=See You\n",
    "CUL8R=See You Later\n",
    "CYA=See You\n",
    "FAQ=Frequently Asked Questions\n",
    "FC=Fingers Crossed\n",
    "FWIW=For What It's Worth\n",
    "FYI=For Your Information\n",
    "GAL=Get A Life\n",
    "GG=Good Game\n",
    "GN=Good Night\n",
    "GMTA=Great Minds Think Alike\n",
    "GR8=Great!\n",
    "G9=Genius\n",
    "IC=I See\n",
    "ICQ=I Seek you (also a chat program)\n",
    "ILU=ILU: I Love You\n",
    "IMHO=In My Honest/Humble Opinion\n",
    "IMO=In My Opinion\n",
    "IOW=In Other Words\n",
    "IRL=In Real Life\n",
    "KISS=Keep It Simple, Stupid\n",
    "LDR=Long Distance Relationship\n",
    "LMAO=Laugh My A.. Off\n",
    "LOL=Laughing Out Loud\n",
    "LTNS=Long Time No See\n",
    "L8R=Later\n",
    "MTE=My Thoughts Exactly\n",
    "M8=Mate\n",
    "NRN=No Reply Necessary\n",
    "OIC=Oh I See\n",
    "PITA=Pain In The A..\n",
    "PRT=Party\n",
    "PRW=Parents Are Watching\n",
    "QPSA?\tQue Pasa?\n",
    "ROFL=Rolling On The Floor Laughing\n",
    "ROFLOL=Rolling On The Floor Laughing Out Loud\n",
    "ROTFLMAO=Rolling On The Floor Laughing My A.. Off\n",
    "SK8=Skate\n",
    "STATS=Your sex and age\n",
    "ASL=Age, Sex, Location\n",
    "THX=Thank You\n",
    "TTFN=Ta-Ta For Now!\n",
    "TTYL=Talk To You Later\n",
    "U=You\n",
    "U2=You Too\n",
    "U4E=Yours For Ever\n",
    "WB=Welcome Back\n",
    "WTF=What The F...\n",
    "WTG=Way To Go!\n",
    "WUF=Where Are You From?\n",
    "W8=Wait...\n",
    "7K=Sick:-D Laugher\n",
    "TFW – That feeling when. TFW internet slang often goes in a caption to an image.\n",
    "MFW – My face when\n",
    "MRW – My reaction when\n",
    "IFYP – I feel your pain\n",
    "LOL – Laughing out loud\n",
    "TNTL – Trying not to laugh\n",
    "JK – Just kidding\n",
    "IDC – I don’t care\n",
    "ILY – I love you\n",
    "IMU – I miss you\n",
    "ADIH – Another day in hell\n",
    "IDC – I don’t care\n",
    "ZZZ – Sleeping, bored, tired\n",
    "WYWH – Wish you were here\n",
    "TIME – Tears in my eyes\n",
    "BAE – Before anyone else\n",
    "FIMH – Forever in my heart\n",
    "BSAAW – Big smile and a wink\n",
    "BWL – Bursting with laughter\n",
    "LMAO – Laughing my a** off\n",
    "BFF: Best friends forever\n",
    "CSL – Can’t stop laughing\"\"\""
   ]
  },
  {
   "cell_type": "code",
   "execution_count": 37,
   "id": "a586ee36-7235-4c8d-b543-8d58e48855dc",
   "metadata": {},
   "outputs": [],
   "source": [
    "# abbreviations = dict(\n",
    "#     line.split(\"=\", 1)\n",
    "#     for line in data.strip().splitlines()\n",
    "#     if \"=\" in line\n",
    "# )"
   ]
  },
  {
   "cell_type": "code",
   "execution_count": 38,
   "id": "54e705e7-a99a-4bb9-b0c0-48698edb5786",
   "metadata": {
    "scrolled": true
   },
   "outputs": [
    {
     "name": "stdout",
     "output_type": "stream",
     "text": [
      "{'7K': 'Sick:-D Laugher',\n",
      " 'A3': 'Anytime, Anywhere, Anyplace',\n",
      " 'AFAIK': 'As Far As I Know',\n",
      " 'AFK': 'Away From Keyboard',\n",
      " 'ASAP': 'As Soon As Possible',\n",
      " 'ASL': 'Age, Sex, Location',\n",
      " 'ATK': 'At The Keyboard',\n",
      " 'ATM': 'At The Moment',\n",
      " 'B4': 'Before',\n",
      " 'B4N': 'Bye For Now',\n",
      " 'BAK': 'Back At Keyboard',\n",
      " 'BBL': 'Be Back Later',\n",
      " 'BBS': 'Be Back Soon',\n",
      " 'BFN': 'Bye For Now',\n",
      " 'BRB': 'Be Right Back',\n",
      " 'BRT': 'Be Right There',\n",
      " 'BTW': 'By The Way',\n",
      " 'CU': 'See You',\n",
      " 'CUL8R': 'See You Later',\n",
      " 'CYA': 'See You',\n",
      " 'FAQ': 'Frequently Asked Questions',\n",
      " 'FC': 'Fingers Crossed',\n",
      " 'FWIW': \"For What It's Worth\",\n",
      " 'FYI': 'For Your Information',\n",
      " 'G9': 'Genius',\n",
      " 'GAL': 'Get A Life',\n",
      " 'GG': 'Good Game',\n",
      " 'GMTA': 'Great Minds Think Alike',\n",
      " 'GN': 'Good Night',\n",
      " 'GR8': 'Great!',\n",
      " 'IC': 'I See',\n",
      " 'ICQ': 'I Seek you (also a chat program)',\n",
      " 'ILU': 'ILU: I Love You',\n",
      " 'IMHO': 'In My Honest/Humble Opinion',\n",
      " 'IMO': 'In My Opinion',\n",
      " 'IOW': 'In Other Words',\n",
      " 'IRL': 'In Real Life',\n",
      " 'KISS': 'Keep It Simple, Stupid',\n",
      " 'L8R': 'Later',\n",
      " 'LDR': 'Long Distance Relationship',\n",
      " 'LMAO': 'Laugh My A.. Off',\n",
      " 'LOL': 'Laughing Out Loud',\n",
      " 'LTNS': 'Long Time No See',\n",
      " 'M8': 'Mate',\n",
      " 'MTE': 'My Thoughts Exactly',\n",
      " 'NRN': 'No Reply Necessary',\n",
      " 'OIC': 'Oh I See',\n",
      " 'PITA': 'Pain In The A..',\n",
      " 'PRT': 'Party',\n",
      " 'PRW': 'Parents Are Watching',\n",
      " 'ROFL': 'Rolling On The Floor Laughing',\n",
      " 'ROFLOL': 'Rolling On The Floor Laughing Out Loud',\n",
      " 'ROTFLMAO': 'Rolling On The Floor Laughing My A.. Off',\n",
      " 'SK8': 'Skate',\n",
      " 'STATS': 'Your sex and age',\n",
      " 'THX': 'Thank You',\n",
      " 'TTFN': 'Ta-Ta For Now!',\n",
      " 'TTYL': 'Talk To You Later',\n",
      " 'U': 'You',\n",
      " 'U2': 'You Too',\n",
      " 'U4E': 'Yours For Ever',\n",
      " 'W8': 'Wait...',\n",
      " 'WB': 'Welcome Back',\n",
      " 'WTF': 'What The F...',\n",
      " 'WTG': 'Way To Go!',\n",
      " 'WUF': 'Where Are You From?'}\n"
     ]
    }
   ],
   "source": [
    "# import pprint\n",
    "# pprint.pprint(abbreviations)"
   ]
  },
  {
   "cell_type": "code",
   "execution_count": 39,
   "id": "282a6e26-8c3b-43c4-aedb-06de9b962f28",
   "metadata": {},
   "outputs": [],
   "source": [
    "# def chat_conversations(text):\n",
    "#     new_text = []\n",
    "#     for w in text.split():\n",
    "#         if w.upper() in abbreviations:\n",
    "#             new_text.append(abbreviations[w.upper()].lower())\n",
    "#         else:\n",
    "#             new_text.append(w)\n",
    "#     return \" \".join(new_text) "
   ]
  },
  {
   "cell_type": "code",
   "execution_count": 40,
   "id": "36bd3728-c249-4abb-9cfe-922cb04abc20",
   "metadata": {},
   "outputs": [],
   "source": [
    "# text = chat_conversations(text)"
   ]
  },
  {
   "cell_type": "code",
   "execution_count": 101,
   "id": "79fc1de8-fd6f-4c3f-bbed-a0f4d1768da9",
   "metadata": {},
   "outputs": [],
   "source": [
    "text = re.sub(r'\\[.*?\\]', '', text)"
   ]
  },
  {
   "cell_type": "code",
   "execution_count": 102,
   "id": "e32b587f-724d-448d-9778-1e72bb2f6531",
   "metadata": {},
   "outputs": [],
   "source": [
    "text = re.sub(r'\\b[A-Z]{2,}:\\s?', '', text)"
   ]
  },
  {
   "cell_type": "code",
   "execution_count": 103,
   "id": "b9c5717d-14c1-461a-8d46-6c2ea615c415",
   "metadata": {},
   "outputs": [],
   "source": [
    "text = text.replace('\\n', ' ')"
   ]
  },
  {
   "cell_type": "code",
   "execution_count": 104,
   "id": "0d365642-1a99-4550-9d91-91337b55336e",
   "metadata": {},
   "outputs": [],
   "source": [
    "text = re.sub(r'[^a-zA-Z0-9\\s\\.\\!\\?]', ' ', text)"
   ]
  },
  {
   "cell_type": "code",
   "execution_count": 105,
   "id": "b4d55bf1-0e9a-4852-9476-f7b1dd24bc43",
   "metadata": {},
   "outputs": [],
   "source": [
    "text = re.sub(r'\\s+', ' ', text)"
   ]
  },
  {
   "cell_type": "code",
   "execution_count": 106,
   "id": "843a9f60-daeb-49af-93fd-c36f1375608b",
   "metadata": {},
   "outputs": [],
   "source": [
    "text = text.lower()"
   ]
  },
  {
   "cell_type": "code",
   "execution_count": 107,
   "id": "5bd3bfaf-e669-4a55-adc8-48b32ec8473c",
   "metadata": {},
   "outputs": [],
   "source": [
    "from nltk.tokenize import sent_tokenize"
   ]
  },
  {
   "cell_type": "code",
   "execution_count": 108,
   "id": "842dcb35-9e99-45d3-8e54-029d3ac37b01",
   "metadata": {},
   "outputs": [],
   "source": [
    "sentences = sent_tokenize(text)"
   ]
  },
  {
   "cell_type": "code",
   "execution_count": 109,
   "id": "c0e131a3-9ea3-4617-98f1-868bb470d11d",
   "metadata": {},
   "outputs": [
    {
     "name": "stdout",
     "output_type": "stream",
     "text": [
      "✅ Number of sentences: 111321\n",
      "🔹 Sample: ['the one where monica gets a new roomate the pilot the uncut version written by marta kauffman david crane monica there s nothing to tell!', 'he s just some guy i work with!', 'joey c mon you re going out with the guy!', 'there s gotta be something wrong with him!', 'chandler all right joey be nice.']\n"
     ]
    }
   ],
   "source": [
    "print(f\"✅ Number of sentences: {len(sentences)}\")\n",
    "print(\"🔹 Sample:\", sentences[:5])"
   ]
  },
  {
   "cell_type": "code",
   "execution_count": 110,
   "id": "16c725ce-5869-4c08-baa7-87da5329ba3b",
   "metadata": {},
   "outputs": [
    {
     "name": "stdout",
     "output_type": "stream",
     "text": [
      "Filtered sentences: 80338\n"
     ]
    }
   ],
   "source": [
    "sentences = [s for s in sentences if len(s.split()) > 3]\n",
    "print(f\"Filtered sentences: {len(sentences)}\")"
   ]
  },
  {
   "cell_type": "code",
   "execution_count": 112,
   "id": "4957cbb2-166c-4ff8-9310-7e0108bc0491",
   "metadata": {},
   "outputs": [
    {
     "name": "stdout",
     "output_type": "stream",
     "text": [
      "['the one where monica gets a new roomate the pilot the uncut version written by marta kauffman david crane monica there s nothing to tell!', 'he s just some guy i work with!', 'joey c mon you re going out with the guy!', 'there s gotta be something wrong with him!', 'chandler all right joey be nice.']\n"
     ]
    }
   ],
   "source": [
    "print(sentences[:5])"
   ]
  },
  {
   "cell_type": "code",
   "execution_count": 43,
   "id": "67eeb8b3-8366-4db5-bd27-c7fa3b47db7b",
   "metadata": {},
   "outputs": [],
   "source": [
    "from nltk.corpus import stopwords"
   ]
  },
  {
   "cell_type": "code",
   "execution_count": 48,
   "id": "45904a8a-92bf-4d51-9957-4ffb09f1ac04",
   "metadata": {},
   "outputs": [
    {
     "name": "stderr",
     "output_type": "stream",
     "text": [
      "[nltk_data] Downloading package stopwords to\n",
      "[nltk_data]     C:\\Users\\10114811\\AppData\\Roaming\\nltk_data...\n",
      "[nltk_data]   Unzipping corpora\\stopwords.zip.\n"
     ]
    },
    {
     "data": {
      "text/plain": [
       "True"
      ]
     },
     "execution_count": 48,
     "metadata": {},
     "output_type": "execute_result"
    }
   ],
   "source": [
    "nltk.download('stopwords')"
   ]
  },
  {
   "cell_type": "code",
   "execution_count": 137,
   "id": "909e5a74-4294-460b-8eeb-3594a56c6810",
   "metadata": {},
   "outputs": [],
   "source": [
    "stop_words = set(stopwords.words('english'))\n",
    "custom_stopwords = set(stopwords.words('english'))\n",
    "custom_stopwords.update(['hey', 'hey_hey', 'okay', 'uh', 'hmm', 'yeah'])"
   ]
  },
  {
   "cell_type": "code",
   "execution_count": 49,
   "id": "f91db881-2b49-454e-a3ec-c44f990ef8f3",
   "metadata": {},
   "outputs": [],
   "source": [
    "# def remove_stopwords(text):\n",
    "#     new_text =[]\n",
    "#     for word in text.split():\n",
    "#         if word in stopwords.words('english'):\n",
    "#             new_text.append('')\n",
    "#         else:\n",
    "#             new_text.append(word)\n",
    "#     x=new_text[:]\n",
    "#     new_text.clear()\n",
    "#     return \" \".join(x)"
   ]
  },
  {
   "cell_type": "code",
   "execution_count": 138,
   "id": "69566dd0-1aa2-4709-a3e6-89e2481ebe12",
   "metadata": {},
   "outputs": [
    {
     "name": "stdout",
     "output_type": "stream",
     "text": [
      "✅ Stopwords removed and corpus is ready.\n"
     ]
    }
   ],
   "source": [
    "corpus = []\n",
    "for sent in sentences:\n",
    "    tokens = word_tokenize(sent)\n",
    "    tokens = [w for w in tokens if len(w) > 2 and w not in custom_stopwords]\n",
    "    if tokens:\n",
    "        corpus.append(tokens)\n",
    "print(\"✅ Stopwords removed and corpus is ready.\")        "
   ]
  },
  {
   "cell_type": "code",
   "execution_count": 139,
   "id": "6de68546-463b-4acd-8395-96ea379b31e4",
   "metadata": {},
   "outputs": [],
   "source": [
    "from gensim.models import Word2Vec"
   ]
  },
  {
   "cell_type": "code",
   "execution_count": 140,
   "id": "272323f9-3901-4c23-8471-4d9747b9017a",
   "metadata": {},
   "outputs": [],
   "source": [
    "from gensim.models.phrases import Phrases, Phraser\n",
    "phrases = Phrases(corpus, min_count=2, threshold=5)\n",
    "bigram = Phraser(phrases)\n",
    "\n",
    "corpus_with_phrases = [bigram[sent] for sent in corpus]"
   ]
  },
  {
   "cell_type": "code",
   "execution_count": 141,
   "id": "3fb8986b-5c11-4b9d-8349-f4dc5c957dca",
   "metadata": {},
   "outputs": [
    {
     "name": "stdout",
     "output_type": "stream",
     "text": [
      "✅ Word2Vec model saved.\n"
     ]
    }
   ],
   "source": [
    "model = Word2Vec(sentences=corpus_with_phrases, vector_size=100, window=10, min_count=2)\n",
    "model.save(\"friends_word2vec.model\")\n",
    "print(\"✅ Word2Vec model saved.\")"
   ]
  },
  {
   "cell_type": "code",
   "execution_count": 142,
   "id": "929d07e9-11f7-41c4-9d60-058e408dfd04",
   "metadata": {},
   "outputs": [
    {
     "name": "stdout",
     "output_type": "stream",
     "text": [
      "[('chandler', 0.9954959154129028), ('ross', 0.9929584264755249), ('monica', 0.9897415637969971), ('phoebe', 0.988053023815155), ('mrs._waltham', 0.9871336817741394)]\n"
     ]
    }
   ],
   "source": [
    "print(model.wv.most_similar(\"joey\", topn=5))"
   ]
  },
  {
   "cell_type": "code",
   "execution_count": 143,
   "id": "7f768fb9-0702-44b8-a195-8d22a53aa847",
   "metadata": {},
   "outputs": [
    {
     "data": {
      "text/plain": [
       "[('chandler', 0.9954959154129028),\n",
       " ('ross', 0.9929584264755249),\n",
       " ('monica', 0.9897415637969971),\n",
       " ('phoebe', 0.988053023815155),\n",
       " ('mrs._waltham', 0.9871336817741394),\n",
       " ('shock', 0.9863895773887634),\n",
       " ('amy', 0.9858255982398987),\n",
       " ('steve', 0.9856249690055847),\n",
       " ('spider', 0.9852551221847534),\n",
       " ('eyes', 0.9852451086044312)]"
      ]
     },
     "execution_count": 143,
     "metadata": {},
     "output_type": "execute_result"
    }
   ],
   "source": [
    "model.wv.most_similar('joey')"
   ]
  },
  {
   "cell_type": "code",
   "execution_count": 144,
   "id": "65991d79-83b6-413d-9198-1315a068d169",
   "metadata": {},
   "outputs": [
    {
     "data": {
      "text/plain": [
       "97.94790148735046"
      ]
     },
     "execution_count": 144,
     "metadata": {},
     "output_type": "execute_result"
    }
   ],
   "source": [
    "model.wv.similarity('joey','sandwich')*100"
   ]
  },
  {
   "cell_type": "code",
   "execution_count": 145,
   "id": "d42c8b84-5855-4c26-9bb5-d3f17545782a",
   "metadata": {},
   "outputs": [],
   "source": [
    "model.save(\"friends_word2vec_with_phrases.model\")"
   ]
  },
  {
   "cell_type": "code",
   "execution_count": null,
   "id": "60a12601-89f5-4e2c-91d7-1b8e76a39e5a",
   "metadata": {},
   "outputs": [],
   "source": []
  }
 ],
 "metadata": {
  "kernelspec": {
   "display_name": "Python 3 (ipykernel)",
   "language": "python",
   "name": "python3"
  },
  "language_info": {
   "codemirror_mode": {
    "name": "ipython",
    "version": 3
   },
   "file_extension": ".py",
   "mimetype": "text/x-python",
   "name": "python",
   "nbconvert_exporter": "python",
   "pygments_lexer": "ipython3",
   "version": "3.9.7"
  }
 },
 "nbformat": 4,
 "nbformat_minor": 5
}
